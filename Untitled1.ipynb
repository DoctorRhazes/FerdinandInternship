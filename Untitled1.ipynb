{
 "cells": [
  {
   "cell_type": "code",
   "execution_count": 17,
   "metadata": {},
   "outputs": [],
   "source": [
    "from urllib.request import urlopen\n",
    "from bs4 import BeautifulSoup\n",
    "import re\n",
    "\n",
    "txtfile = open(\"linksammlung.txt\",\"w\")\n",
    "univiehtml = urlopen(\"https://univie.ac.at\")\n",
    "\n",
    "BS = BeautifulSoup(univiehtml,\"lxml\")\n",
    "Refs = BS.findAll(\"a\",attrs={\"href\":re.compile(\"http.*univie\\..*\")})\n",
    "\n",
    "for r in Refs:\n",
    "    txtfile.write(r[\"href\"]+\"\\n\")\n",
    "\n",
    "txtfile.write(\"------------------------------------\\nsublinks: \\n\")\n",
    "\n",
    "for r in Refs[0:5]:\n",
    "    txtfile.write(\"-----------Untergruppe-------\\n\")\n",
    "    SubBS = BeautifulSoup(urlopen(r[\"href\"]),\"lxml\") \n",
    "    SubRefs = SubBS.findAll(\"a\",attrs={\"href\":re.compile(\"http.*univie\\..*\")})\n",
    "    for rr in SubRefs: \n",
    "        txtfile.write(rr[\"href\"]+\"\\n\")\n",
    "\n",
    "txtfile.close()"
   ]
  },
  {
   "cell_type": "markdown",
   "metadata": {},
   "source": [
    "Das ist der (nicht rekursive) Prototyp des Programms. Was nun fehlt: eine Klasse die vorgibt: wieiviele Ebenen tief geht\n",
    "die Rekursion und wieviele Links sollen pro Ebene hergenommen werden?"
   ]
  },
  {
   "cell_type": "code",
   "execution_count": 20,
   "metadata": {},
   "outputs": [],
   "source": [
    "Rekursebenen = 3\n",
    "RefsproEbene = 5\n",
    "Rekurslink = \"https://univie.ac.at\"\n",
    "Refpattern = \"http.*univie\\..*\"\n",
    "\n",
    "textfile = open(\"rekursiv.txt\",\"w\")\n",
    "\n",
    "def\n",
    "\n",
    "def Rekurs(rlink,rpattern,ebenen,refsper):\n",
    "    html = urlopen(rlink)\n",
    "    BS = BeautifulSoup(html,\"lxml\")\n",
    "    Refs = BS.findAll(\"a\",attrs={\"href\":re.compile(rpattern)})\n",
    "    for r in Refs[0:refsper]:\n",
    "        textfile.write(r[\"href\"]+\"\\n\")\n",
    "        \n",
    "Rekurs(Rekurslink,Refpattern,Rekursebenen,RefsproEbene)\n",
    "textfile.close()\n",
    "    "
   ]
  }
 ],
 "metadata": {
  "kernelspec": {
   "display_name": "Python 3",
   "language": "python",
   "name": "python3"
  },
  "language_info": {
   "codemirror_mode": {
    "name": "ipython",
    "version": 3
   },
   "file_extension": ".py",
   "mimetype": "text/x-python",
   "name": "python",
   "nbconvert_exporter": "python",
   "pygments_lexer": "ipython3",
   "version": "3.6.1"
  }
 },
 "nbformat": 4,
 "nbformat_minor": 2
}
