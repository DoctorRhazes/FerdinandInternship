{
 "cells": [
  {
   "cell_type": "code",
   "execution_count": 1,
   "metadata": {},
   "outputs": [
    {
     "name": "stdout",
     "output_type": "stream",
     "text": [
      "<a href=\"https://ourfiniteworld.com/\" rel=\"home\" title=\"Our Finite World\">Our Finite World</a>\n"
     ]
    }
   ],
   "source": [
    "from urllib.request import urlopen\n",
    "from bs4 import BeautifulSoup\n",
    "import re\n",
    "\n",
    "site = open(\"../GailTverberg.htm\",\"r\",encoding=\"UTF-8\")\n",
    "website = urlopen(\"http://www.univie.ac.at\")\n",
    "BS = BeautifulSoup(site,\"lxml\")\n",
    "print(BS.find(\"a\",rel=\"home\"))"
   ]
  },
  {
   "cell_type": "code",
   "execution_count": 28,
   "metadata": {},
   "outputs": [
    {
     "name": "stdout",
     "output_type": "stream",
     "text": [
      "<a href=\"https://ourfiniteworld.com/\" rel=\"home\" title=\"Our Finite World\">Our Finite World</a>\n"
     ]
    }
   ],
   "source": [
    "print(BS.find(\"a\",href=re.compile(\".*\\/\\/our.*\")))"
   ]
  },
  {
   "cell_type": "code",
   "execution_count": 15,
   "metadata": {},
   "outputs": [
    {
     "name": "stdout",
     "output_type": "stream",
     "text": [
      "<link href=\"http://gmpg.org/xfn/11\" rel=\"profile\"/>\n"
     ]
    }
   ],
   "source": [
    "print(BS.find(\"link\",href=re.compile(\".*\")))"
   ]
  },
  {
   "cell_type": "code",
   "execution_count": 17,
   "metadata": {},
   "outputs": [
    {
     "ename": "TypeError",
     "evalue": "find() got multiple values for argument 'name'",
     "output_type": "error",
     "traceback": [
      "\u001b[1;31m---------------------------------------------------------------------------\u001b[0m",
      "\u001b[1;31mTypeError\u001b[0m                                 Traceback (most recent call last)",
      "\u001b[1;32m<ipython-input-17-919aea3b0e05>\u001b[0m in \u001b[0;36m<module>\u001b[1;34m()\u001b[0m\n\u001b[1;32m----> 1\u001b[1;33m \u001b[0mprint\u001b[0m\u001b[1;33m(\u001b[0m\u001b[0mBS\u001b[0m\u001b[1;33m.\u001b[0m\u001b[0mfind\u001b[0m\u001b[1;33m(\u001b[0m\u001b[1;34m\"meta\"\u001b[0m\u001b[1;33m,\u001b[0m\u001b[0mname\u001b[0m\u001b[1;33m=\u001b[0m\u001b[0mre\u001b[0m\u001b[1;33m.\u001b[0m\u001b[0mcompile\u001b[0m\u001b[1;33m(\u001b[0m\u001b[1;34m\".*\"\u001b[0m\u001b[1;33m)\u001b[0m\u001b[1;33m)\u001b[0m\u001b[1;33m)\u001b[0m\u001b[1;33m\u001b[0m\u001b[0m\n\u001b[0m",
      "\u001b[1;31mTypeError\u001b[0m: find() got multiple values for argument 'name'"
     ]
    }
   ],
   "source": [
    "print(BS.find(\"meta\",name=re.compile(\".*\")))"
   ]
  },
  {
   "cell_type": "markdown",
   "metadata": {},
   "source": [
    "\"name\" als Attribut geht nicht, weil anscheinend \"name\" auch ein optionales Argument von find ist!"
   ]
  },
  {
   "cell_type": "code",
   "execution_count": 23,
   "metadata": {},
   "outputs": [
    {
     "name": "stdout",
     "output_type": "stream",
     "text": [
      "<meta content=\"FdrXOTOWSoCI_2sxX1BEbt-dPR0\" name=\"p:domain_verify\"/>\n"
     ]
    }
   ],
   "source": [
    "print(BS.find(\"meta\",attrs={\"name\":\"p:domain_verify\"}))"
   ]
  },
  {
   "cell_type": "markdown",
   "metadata": {},
   "source": [
    "Mit attrs=  und einem dict gehts dann"
   ]
  },
  {
   "cell_type": "code",
   "execution_count": 26,
   "metadata": {},
   "outputs": [
    {
     "name": "stdout",
     "output_type": "stream",
     "text": [
      "<meta content=\"_Ul6o9KtQwWBNCgUsUs5a_OTIIMZS06AimLNqX-vGQg\" name=\"google-site-verification\"/>\n"
     ]
    }
   ],
   "source": [
    "print(BS.find(\"meta\",attrs={\"name\":re.compile(\".*\")}))"
   ]
  },
  {
   "cell_type": "markdown",
   "metadata": {},
   "source": [
    "regex geht im dict auch..."
   ]
  },
  {
   "cell_type": "code",
   "execution_count": 32,
   "metadata": {
    "collapsed": true
   },
   "outputs": [],
   "source": [
    "var = BS.find(\"meta\",attrs={\"name\":re.compile(\"p:.*\"),\"content\":re.compile(\"Fdr.*\")})\n",
    "for child in var.children:\n",
    "    print(child)"
   ]
  },
  {
   "cell_type": "markdown",
   "metadata": {},
   "source": [
    "Würde gehen, hätte das element \"meta\" Unterpunkte"
   ]
  },
  {
   "cell_type": "code",
   "execution_count": 38,
   "metadata": {},
   "outputs": [
    {
     "name": "stdout",
     "output_type": "stream",
     "text": [
      "\n",
      "\n"
     ]
    }
   ],
   "source": [
    "print(BS.find(\"meta\",attrs={\"name\":re.compile(\".*\")}).next_element)"
   ]
  },
  {
   "cell_type": "code",
   "execution_count": 40,
   "metadata": {},
   "outputs": [
    {
     "name": "stdout",
     "output_type": "stream",
     "text": [
      "<ul class=\"children\">\n",
      "<li class=\"comment byuser comment-author-tmsr even depth-2 highlander-comment\" id=\"li-comment-112026\">\n",
      "<div id=\"comment-112026\">\n",
      "<div class=\"comment-author vcard\">\n",
      "<img alt=\"\" class=\"avatar avatar-40 grav-hashed grav-hijack\" height=\"40\" id=\"grav-08fb48b6560cb386ae5690eea25000fa-0\" src=\"2017%20%20The%20Year%20When%20the%20World%20Economy%20Starts%20Coming%20Apart%20_%20Our%20Finite%20World-Dateien/08fb48b6560cb386ae5690eea25000fa.gif\" width=\"40\"/> <cite class=\"fn\"><a class=\"url\" href=\"http://tmsr.wordpress.com/\" rel=\"external nofollow\">Ed</a></cite> <span class=\"says\">says:</span> </div><!-- .comment-author .vcard -->\n",
      "<div class=\"comment-meta commentmetadata\"><a href=\"https://ourfiniteworld.com/2017/01/10/2017-the-year-when-the-world-economy-starts-coming-apart/comment-page-11/#comment-112026\">\n",
      "\t\t\t\tJanuary 14, 2017 at 3:49 pm</a> </div><!-- .comment-meta .commentmetadata -->\n",
      "<div class=\"comment-body\"><p>There is a Kiwi spinning like a top.</p>\n",
      "</div>\n",
      "<div class=\"reply\">\n",
      "<a aria-label=\"Reply to Ed\" class=\"comment-reply-link\" href=\"https://ourfiniteworld.com/2017/01/10/2017-the-year-when-the-world-economy-starts-coming-apart/?replytocom=112026#respond\" onclick='return addComment.moveForm( \"comment-112026\", \"112026\", \"respond\", \"41544\" )' rel=\"nofollow\">Reply</a> </div><!-- .reply -->\n",
      "</div><!-- #comment-##  -->\n",
      "</li><!-- #comment-## -->\n",
      "<li class=\"comment byuser comment-author-tmsr odd alt depth-2 highlander-comment\" id=\"li-comment-112027\">\n",
      "<div id=\"comment-112027\">\n",
      "<div class=\"comment-author vcard\">\n",
      "<img alt=\"\" class=\"avatar avatar-40 grav-hashed grav-hijack\" height=\"40\" id=\"grav-08fb48b6560cb386ae5690eea25000fa-1\" src=\"2017%20%20The%20Year%20When%20the%20World%20Economy%20Starts%20Coming%20Apart%20_%20Our%20Finite%20World-Dateien/08fb48b6560cb386ae5690eea25000fa.gif\" width=\"40\"/> <cite class=\"fn\"><a class=\"url\" href=\"http://tmsr.wordpress.com/\" rel=\"external nofollow\">Ed</a></cite> <span class=\"says\">says:</span> </div><!-- .comment-author .vcard -->\n",
      "<div class=\"comment-meta commentmetadata\"><a href=\"https://ourfiniteworld.com/2017/01/10/2017-the-year-when-the-world-economy-starts-coming-apart/comment-page-11/#comment-112027\">\n",
      "\t\t\t\tJanuary 14, 2017 at 4:01 pm</a> </div><!-- .comment-meta .commentmetadata -->\n",
      "<div class=\"comment-body\"><p>Yes, making liquid hydrocarbon fuels from intermittent solar and wind is an obvious solution.</p>\n",
      "</div>\n",
      "<div class=\"reply\">\n",
      "<a aria-label=\"Reply to Ed\" class=\"comment-reply-link\" href=\"https://ourfiniteworld.com/2017/01/10/2017-the-year-when-the-world-economy-starts-coming-apart/?replytocom=112027#respond\" onclick='return addComment.moveForm( \"comment-112027\", \"112027\", \"respond\", \"41544\" )' rel=\"nofollow\">Reply</a> </div><!-- .reply -->\n",
      "</div><!-- #comment-##  -->\n",
      "<ul class=\"children\">\n",
      "<li class=\"comment byuser comment-author-hkeithhenson even depth-3 highlander-comment\" id=\"li-comment-112031\">\n",
      "<div id=\"comment-112031\">\n",
      "<div class=\"comment-author vcard\">\n",
      "<img alt=\"\" class=\"avatar avatar-40 grav-hashed grav-hijack\" height=\"40\" id=\"grav-5c1b527b70bdbce401373ec2e19503c0-1\" src=\"2017%20%20The%20Year%20When%20the%20World%20Economy%20Starts%20Coming%20Apart%20_%20Our%20Finite%20World-Dateien/5c1b527b70bdbce401373ec2e19503c0.gif\" width=\"40\"/> <cite class=\"fn\"><a class=\"url\" href=\"http://hkhenson.wordpress.com/\" rel=\"external nofollow\">hkeithhenson</a></cite> <span class=\"says\">says:</span> </div><!-- .comment-author .vcard -->\n",
      "<div class=\"comment-meta commentmetadata\"><a href=\"https://ourfiniteworld.com/2017/01/10/2017-the-year-when-the-world-economy-starts-coming-apart/comment-page-11/#comment-112031\">\n",
      "\t\t\t\tJanuary 14, 2017 at 4:32 pm</a> </div><!-- .comment-meta .commentmetadata -->\n",
      "<div class=\"comment-body\"><p>It’s been considered by Ed Kelly of StratoSolar</p>\n",
      "<p>“Liquid Fuels: Electricity alone is not a complete energy solution. \n",
      "Electricity generation needs to be cheap enough to enable the synthesis \n",
      "of affordable liquid fuels for transportation and long term energy \n",
      "storage. StratoSolar’s initial low cost for electricity, combined with \n",
      "the historical  cost reduction roadmap, quickly leads to a sustainable, \n",
      "complete energy solution that includes affordable synthetic fuels.”</p>\n",
      "<p><a href=\"http://www.stratosolar.com/sustainable-and-scale-able.html\" rel=\"nofollow\">http://www.stratosolar.com/sustainable-and-scale-able.html</a></p>\n",
      "</div>\n",
      "<div class=\"reply\">\n",
      "<a aria-label=\"Reply to hkeithhenson\" class=\"comment-reply-link\" href=\"https://ourfiniteworld.com/2017/01/10/2017-the-year-when-the-world-economy-starts-coming-apart/?replytocom=112031#respond\" onclick='return addComment.moveForm( \"comment-112031\", \"112031\", \"respond\", \"41544\" )' rel=\"nofollow\">Reply</a> </div><!-- .reply -->\n",
      "</div><!-- #comment-##  -->\n",
      "</li><!-- #comment-## -->\n",
      "<li class=\"comment odd alt depth-3 highlander-comment\" id=\"li-comment-112051\">\n",
      "<div id=\"comment-112051\">\n",
      "<div class=\"comment-author vcard\">\n",
      "<img alt=\"\" class=\"avatar avatar-40\" height=\"40\" src=\"2017%20%20The%20Year%20When%20the%20World%20Economy%20Starts%20Coming%20Apart%20_%20Our%20Finite%20World-Dateien/picture.jpg\" width=\"40\"/> <cite class=\"fn\"><a class=\"url\" href=\"https://www.facebook.com/app_scoped_user_id/911768185564195/\" rel=\"external nofollow\">Tim Groves</a></cite> <span class=\"says\">says:</span> </div><!-- .comment-author .vcard -->\n",
      "<div class=\"comment-meta commentmetadata\"><a href=\"https://ourfiniteworld.com/2017/01/10/2017-the-year-when-the-world-economy-starts-coming-apart/comment-page-11/#comment-112051\">\n",
      "\t\t\t\tJanuary 14, 2017 at 10:52 pm</a> </div><!-- .comment-meta .commentmetadata -->\n",
      "<div class=\"comment-body\"><p><i>Yes, making liquid hydrocarbon fuels from intermittent solar and wind is an obvious solution.</i></p>\n",
      "<p>Nature’s got it in hand. All it takes is a few hundred million years.</p>\n",
      "</div>\n",
      "<div class=\"reply\">\n",
      "<a aria-label=\"Reply to Tim Groves\" class=\"comment-reply-link\" href=\"https://ourfiniteworld.com/2017/01/10/2017-the-year-when-the-world-economy-starts-coming-apart/?replytocom=112051#respond\" onclick='return addComment.moveForm( \"comment-112051\", \"112051\", \"respond\", \"41544\" )' rel=\"nofollow\">Reply</a> </div><!-- .reply -->\n",
      "</div><!-- #comment-##  -->\n",
      "<ul class=\"children\">\n",
      "<li class=\"comment byuser comment-author-hkeithhenson even depth-4 highlander-comment\" id=\"li-comment-112055\">\n",
      "<div id=\"comment-112055\">\n",
      "<div class=\"comment-author vcard\">\n",
      "<img alt=\"\" class=\"avatar avatar-40 grav-hashed grav-hijack\" height=\"40\" id=\"grav-5c1b527b70bdbce401373ec2e19503c0-2\" src=\"2017%20%20The%20Year%20When%20the%20World%20Economy%20Starts%20Coming%20Apart%20_%20Our%20Finite%20World-Dateien/5c1b527b70bdbce401373ec2e19503c0.gif\" width=\"40\"/> <cite class=\"fn\"><a class=\"url\" href=\"http://hkhenson.wordpress.com/\" rel=\"external nofollow\">hkeithhenson</a></cite> <span class=\"says\">says:</span> </div><!-- .comment-author .vcard -->\n",
      "<div class=\"comment-meta commentmetadata\"><a href=\"https://ourfiniteworld.com/2017/01/10/2017-the-year-when-the-world-economy-starts-coming-apart/comment-page-11/#comment-112055\">\n",
      "\t\t\t\tJanuary 14, 2017 at 11:45 pm</a> </div><!-- .comment-meta .commentmetadata -->\n",
      "<div class=\"comment-body\"><p>“a few hundred million years.”</p>\n",
      "<p>Chemical engineers can do it somewhat faster, like a day, though building the plant will take a few years.</p>\n",
      "</div>\n",
      "<div class=\"reply\">\n",
      "<a aria-label=\"Reply to hkeithhenson\" class=\"comment-reply-link\" href=\"https://ourfiniteworld.com/2017/01/10/2017-the-year-when-the-world-economy-starts-coming-apart/?replytocom=112055#respond\" onclick='return addComment.moveForm( \"comment-112055\", \"112055\", \"respond\", \"41544\" )' rel=\"nofollow\">Reply</a> </div><!-- .reply -->\n",
      "</div><!-- #comment-##  -->\n",
      "</li><!-- #comment-## -->\n",
      "<li class=\"comment odd alt depth-4 highlander-comment\" id=\"li-comment-112057\">\n",
      "<div id=\"comment-112057\">\n",
      "<div class=\"comment-author vcard\">\n",
      "<img alt=\"\" class=\"avatar avatar-40\" height=\"40\" src=\"2017%20%20The%20Year%20When%20the%20World%20Economy%20Starts%20Coming%20Apart%20_%20Our%20Finite%20World-Dateien/picture.jpg\" width=\"40\"/> <cite class=\"fn\"><a class=\"url\" href=\"https://www.facebook.com/app_scoped_user_id/911768185564195/\" rel=\"external nofollow\">Tim Groves</a></cite> <span class=\"says\">says:</span> </div><!-- .comment-author .vcard -->\n",
      "<div class=\"comment-meta commentmetadata\"><a href=\"https://ourfiniteworld.com/2017/01/10/2017-the-year-when-the-world-economy-starts-coming-apart/comment-page-11/#comment-112057\">\n",
      "\t\t\t\tJanuary 14, 2017 at 11:58 pm</a> </div><!-- .comment-meta .commentmetadata -->\n",
      "<div class=\"comment-body\"><p>That would be nice, Keith, and I’m sure \n",
      "it could de done. I’d be interested to see an industrial plant up and \n",
      "running on intermittent solar and/or wind. It would be a good \n",
      "demonstration of concept. On the other hand, I doubt whether it would be\n",
      " a practical solution due to overall costs. But as long as BAU was \n",
      "tottering along, some communities might be willing to pay more for the \n",
      "enhanced security of supply it would provide them with.</p>\n",
      "</div>\n",
      "<div class=\"reply\">\n",
      "<a aria-label=\"Reply to Tim Groves\" class=\"comment-reply-link\" href=\"https://ourfiniteworld.com/2017/01/10/2017-the-year-when-the-world-economy-starts-coming-apart/?replytocom=112057#respond\" onclick='return addComment.moveForm( \"comment-112057\", \"112057\", \"respond\", \"41544\" )' rel=\"nofollow\">Reply</a> </div><!-- .reply -->\n",
      "</div><!-- #comment-##  -->\n",
      "<ul class=\"children\">\n",
      "<li class=\"comment even depth-5 highlander-comment\" id=\"li-comment-112068\">\n",
      "<div id=\"comment-112068\">\n",
      "<div class=\"comment-author vcard\">\n",
      "<img alt=\"\" class=\"avatar avatar-40 grav-hashed grav-hijack\" height=\"40\" id=\"grav-4964a24d0c354cbaa6a1db5238855a73-0\" src=\"2017%20%20The%20Year%20When%20the%20World%20Economy%20Starts%20Coming%20Apart%20_%20Our%20Finite%20World-Dateien/4964a24d0c354cbaa6a1db5238855a73.gif\" width=\"40\"/> <cite class=\"fn\">Jens</cite> <span class=\"says\">says:</span> </div><!-- .comment-author .vcard -->\n",
      "<div class=\"comment-meta commentmetadata\"><a href=\"https://ourfiniteworld.com/2017/01/10/2017-the-year-when-the-world-economy-starts-coming-apart/comment-page-11/#comment-112068\">\n",
      "\t\t\t\tJanuary 15, 2017 at 10:51 am</a> </div><!-- .comment-meta .commentmetadata -->\n",
      "<div class=\"comment-body\"><p>I believe Tesla is doing just that with \n",
      "its Nevada “Giga-factory” – now adding a 70mw solar roof with batteries \n",
      "for nighttime operation</p>\n",
      "</div>\n",
      "<div class=\"reply\">\n",
      "<a aria-label=\"Reply to Jens\" class=\"comment-reply-link\" href=\"https://ourfiniteworld.com/2017/01/10/2017-the-year-when-the-world-economy-starts-coming-apart/?replytocom=112068#respond\" onclick='return addComment.moveForm( \"comment-112068\", \"112068\", \"respond\", \"41544\" )' rel=\"nofollow\">Reply</a> </div><!-- .reply -->\n",
      "</div><!-- #comment-##  -->\n",
      "</li><!-- #comment-## -->\n",
      "</ul><!-- .children -->\n",
      "</li><!-- #comment-## -->\n",
      "</ul><!-- .children -->\n",
      "</li><!-- #comment-## -->\n",
      "</ul><!-- .children -->\n",
      "</li><!-- #comment-## -->\n",
      "</ul>\n"
     ]
    }
   ],
   "source": [
    "print(BS.find(\"ul\",attrs={\"class\":\"children\"}))"
   ]
  },
  {
   "cell_type": "code",
   "execution_count": 44,
   "metadata": {},
   "outputs": [
    {
     "name": "stdout",
     "output_type": "stream",
     "text": [
      " .children \n"
     ]
    }
   ],
   "source": [
    "print(BS.find(\"ul\",attrs={\"class\":\"children\"}).next_sibling)"
   ]
  },
  {
   "cell_type": "code",
   "execution_count": 46,
   "metadata": {},
   "outputs": [
    {
     "name": "stdout",
     "output_type": "stream",
     "text": [
      "['\\n', <li class=\"comment byuser comment-author-tmsr even depth-2 highlander-comment\" id=\"li-comment-112026\">\n",
      "<div id=\"comment-112026\">\n",
      "<div class=\"comment-author vcard\">\n",
      "<img alt=\"\" class=\"avatar avatar-40 grav-hashed grav-hijack\" height=\"40\" id=\"grav-08fb48b6560cb386ae5690eea25000fa-0\" src=\"2017%20%20The%20Year%20When%20the%20World%20Economy%20Starts%20Coming%20Apart%20_%20Our%20Finite%20World-Dateien/08fb48b6560cb386ae5690eea25000fa.gif\" width=\"40\"/> <cite class=\"fn\"><a class=\"url\" href=\"http://tmsr.wordpress.com/\" rel=\"external nofollow\">Ed</a></cite> <span class=\"says\">says:</span> </div><!-- .comment-author .vcard -->\n",
      "<div class=\"comment-meta commentmetadata\"><a href=\"https://ourfiniteworld.com/2017/01/10/2017-the-year-when-the-world-economy-starts-coming-apart/comment-page-11/#comment-112026\">\n",
      "\t\t\t\tJanuary 14, 2017 at 3:49 pm</a> </div><!-- .comment-meta .commentmetadata -->\n",
      "<div class=\"comment-body\"><p>There is a Kiwi spinning like a top.</p>\n",
      "</div>\n",
      "<div class=\"reply\">\n",
      "<a aria-label=\"Reply to Ed\" class=\"comment-reply-link\" href=\"https://ourfiniteworld.com/2017/01/10/2017-the-year-when-the-world-economy-starts-coming-apart/?replytocom=112026#respond\" onclick='return addComment.moveForm( \"comment-112026\", \"112026\", \"respond\", \"41544\" )' rel=\"nofollow\">Reply</a> </div><!-- .reply -->\n",
      "</div><!-- #comment-##  -->\n",
      "</li>, ' #comment-## ', '\\n', <li class=\"comment byuser comment-author-tmsr odd alt depth-2 highlander-comment\" id=\"li-comment-112027\">\n",
      "<div id=\"comment-112027\">\n",
      "<div class=\"comment-author vcard\">\n",
      "<img alt=\"\" class=\"avatar avatar-40 grav-hashed grav-hijack\" height=\"40\" id=\"grav-08fb48b6560cb386ae5690eea25000fa-1\" src=\"2017%20%20The%20Year%20When%20the%20World%20Economy%20Starts%20Coming%20Apart%20_%20Our%20Finite%20World-Dateien/08fb48b6560cb386ae5690eea25000fa.gif\" width=\"40\"/> <cite class=\"fn\"><a class=\"url\" href=\"http://tmsr.wordpress.com/\" rel=\"external nofollow\">Ed</a></cite> <span class=\"says\">says:</span> </div><!-- .comment-author .vcard -->\n",
      "<div class=\"comment-meta commentmetadata\"><a href=\"https://ourfiniteworld.com/2017/01/10/2017-the-year-when-the-world-economy-starts-coming-apart/comment-page-11/#comment-112027\">\n",
      "\t\t\t\tJanuary 14, 2017 at 4:01 pm</a> </div><!-- .comment-meta .commentmetadata -->\n",
      "<div class=\"comment-body\"><p>Yes, making liquid hydrocarbon fuels from intermittent solar and wind is an obvious solution.</p>\n",
      "</div>\n",
      "<div class=\"reply\">\n",
      "<a aria-label=\"Reply to Ed\" class=\"comment-reply-link\" href=\"https://ourfiniteworld.com/2017/01/10/2017-the-year-when-the-world-economy-starts-coming-apart/?replytocom=112027#respond\" onclick='return addComment.moveForm( \"comment-112027\", \"112027\", \"respond\", \"41544\" )' rel=\"nofollow\">Reply</a> </div><!-- .reply -->\n",
      "</div><!-- #comment-##  -->\n",
      "<ul class=\"children\">\n",
      "<li class=\"comment byuser comment-author-hkeithhenson even depth-3 highlander-comment\" id=\"li-comment-112031\">\n",
      "<div id=\"comment-112031\">\n",
      "<div class=\"comment-author vcard\">\n",
      "<img alt=\"\" class=\"avatar avatar-40 grav-hashed grav-hijack\" height=\"40\" id=\"grav-5c1b527b70bdbce401373ec2e19503c0-1\" src=\"2017%20%20The%20Year%20When%20the%20World%20Economy%20Starts%20Coming%20Apart%20_%20Our%20Finite%20World-Dateien/5c1b527b70bdbce401373ec2e19503c0.gif\" width=\"40\"/> <cite class=\"fn\"><a class=\"url\" href=\"http://hkhenson.wordpress.com/\" rel=\"external nofollow\">hkeithhenson</a></cite> <span class=\"says\">says:</span> </div><!-- .comment-author .vcard -->\n",
      "<div class=\"comment-meta commentmetadata\"><a href=\"https://ourfiniteworld.com/2017/01/10/2017-the-year-when-the-world-economy-starts-coming-apart/comment-page-11/#comment-112031\">\n",
      "\t\t\t\tJanuary 14, 2017 at 4:32 pm</a> </div><!-- .comment-meta .commentmetadata -->\n",
      "<div class=\"comment-body\"><p>It’s been considered by Ed Kelly of StratoSolar</p>\n",
      "<p>“Liquid Fuels: Electricity alone is not a complete energy solution. \n",
      "Electricity generation needs to be cheap enough to enable the synthesis \n",
      "of affordable liquid fuels for transportation and long term energy \n",
      "storage. StratoSolar’s initial low cost for electricity, combined with \n",
      "the historical  cost reduction roadmap, quickly leads to a sustainable, \n",
      "complete energy solution that includes affordable synthetic fuels.”</p>\n",
      "<p><a href=\"http://www.stratosolar.com/sustainable-and-scale-able.html\" rel=\"nofollow\">http://www.stratosolar.com/sustainable-and-scale-able.html</a></p>\n",
      "</div>\n",
      "<div class=\"reply\">\n",
      "<a aria-label=\"Reply to hkeithhenson\" class=\"comment-reply-link\" href=\"https://ourfiniteworld.com/2017/01/10/2017-the-year-when-the-world-economy-starts-coming-apart/?replytocom=112031#respond\" onclick='return addComment.moveForm( \"comment-112031\", \"112031\", \"respond\", \"41544\" )' rel=\"nofollow\">Reply</a> </div><!-- .reply -->\n",
      "</div><!-- #comment-##  -->\n",
      "</li><!-- #comment-## -->\n",
      "<li class=\"comment odd alt depth-3 highlander-comment\" id=\"li-comment-112051\">\n",
      "<div id=\"comment-112051\">\n",
      "<div class=\"comment-author vcard\">\n",
      "<img alt=\"\" class=\"avatar avatar-40\" height=\"40\" src=\"2017%20%20The%20Year%20When%20the%20World%20Economy%20Starts%20Coming%20Apart%20_%20Our%20Finite%20World-Dateien/picture.jpg\" width=\"40\"/> <cite class=\"fn\"><a class=\"url\" href=\"https://www.facebook.com/app_scoped_user_id/911768185564195/\" rel=\"external nofollow\">Tim Groves</a></cite> <span class=\"says\">says:</span> </div><!-- .comment-author .vcard -->\n",
      "<div class=\"comment-meta commentmetadata\"><a href=\"https://ourfiniteworld.com/2017/01/10/2017-the-year-when-the-world-economy-starts-coming-apart/comment-page-11/#comment-112051\">\n",
      "\t\t\t\tJanuary 14, 2017 at 10:52 pm</a> </div><!-- .comment-meta .commentmetadata -->\n",
      "<div class=\"comment-body\"><p><i>Yes, making liquid hydrocarbon fuels from intermittent solar and wind is an obvious solution.</i></p>\n",
      "<p>Nature’s got it in hand. All it takes is a few hundred million years.</p>\n",
      "</div>\n",
      "<div class=\"reply\">\n",
      "<a aria-label=\"Reply to Tim Groves\" class=\"comment-reply-link\" href=\"https://ourfiniteworld.com/2017/01/10/2017-the-year-when-the-world-economy-starts-coming-apart/?replytocom=112051#respond\" onclick='return addComment.moveForm( \"comment-112051\", \"112051\", \"respond\", \"41544\" )' rel=\"nofollow\">Reply</a> </div><!-- .reply -->\n",
      "</div><!-- #comment-##  -->\n",
      "<ul class=\"children\">\n",
      "<li class=\"comment byuser comment-author-hkeithhenson even depth-4 highlander-comment\" id=\"li-comment-112055\">\n",
      "<div id=\"comment-112055\">\n",
      "<div class=\"comment-author vcard\">\n",
      "<img alt=\"\" class=\"avatar avatar-40 grav-hashed grav-hijack\" height=\"40\" id=\"grav-5c1b527b70bdbce401373ec2e19503c0-2\" src=\"2017%20%20The%20Year%20When%20the%20World%20Economy%20Starts%20Coming%20Apart%20_%20Our%20Finite%20World-Dateien/5c1b527b70bdbce401373ec2e19503c0.gif\" width=\"40\"/> <cite class=\"fn\"><a class=\"url\" href=\"http://hkhenson.wordpress.com/\" rel=\"external nofollow\">hkeithhenson</a></cite> <span class=\"says\">says:</span> </div><!-- .comment-author .vcard -->\n",
      "<div class=\"comment-meta commentmetadata\"><a href=\"https://ourfiniteworld.com/2017/01/10/2017-the-year-when-the-world-economy-starts-coming-apart/comment-page-11/#comment-112055\">\n",
      "\t\t\t\tJanuary 14, 2017 at 11:45 pm</a> </div><!-- .comment-meta .commentmetadata -->\n",
      "<div class=\"comment-body\"><p>“a few hundred million years.”</p>\n",
      "<p>Chemical engineers can do it somewhat faster, like a day, though building the plant will take a few years.</p>\n",
      "</div>\n",
      "<div class=\"reply\">\n",
      "<a aria-label=\"Reply to hkeithhenson\" class=\"comment-reply-link\" href=\"https://ourfiniteworld.com/2017/01/10/2017-the-year-when-the-world-economy-starts-coming-apart/?replytocom=112055#respond\" onclick='return addComment.moveForm( \"comment-112055\", \"112055\", \"respond\", \"41544\" )' rel=\"nofollow\">Reply</a> </div><!-- .reply -->\n",
      "</div><!-- #comment-##  -->\n",
      "</li><!-- #comment-## -->\n",
      "<li class=\"comment odd alt depth-4 highlander-comment\" id=\"li-comment-112057\">\n",
      "<div id=\"comment-112057\">\n",
      "<div class=\"comment-author vcard\">\n",
      "<img alt=\"\" class=\"avatar avatar-40\" height=\"40\" src=\"2017%20%20The%20Year%20When%20the%20World%20Economy%20Starts%20Coming%20Apart%20_%20Our%20Finite%20World-Dateien/picture.jpg\" width=\"40\"/> <cite class=\"fn\"><a class=\"url\" href=\"https://www.facebook.com/app_scoped_user_id/911768185564195/\" rel=\"external nofollow\">Tim Groves</a></cite> <span class=\"says\">says:</span> </div><!-- .comment-author .vcard -->\n",
      "<div class=\"comment-meta commentmetadata\"><a href=\"https://ourfiniteworld.com/2017/01/10/2017-the-year-when-the-world-economy-starts-coming-apart/comment-page-11/#comment-112057\">\n",
      "\t\t\t\tJanuary 14, 2017 at 11:58 pm</a> </div><!-- .comment-meta .commentmetadata -->\n",
      "<div class=\"comment-body\"><p>That would be nice, Keith, and I’m sure \n",
      "it could de done. I’d be interested to see an industrial plant up and \n",
      "running on intermittent solar and/or wind. It would be a good \n",
      "demonstration of concept. On the other hand, I doubt whether it would be\n",
      " a practical solution due to overall costs. But as long as BAU was \n",
      "tottering along, some communities might be willing to pay more for the \n",
      "enhanced security of supply it would provide them with.</p>\n",
      "</div>\n",
      "<div class=\"reply\">\n",
      "<a aria-label=\"Reply to Tim Groves\" class=\"comment-reply-link\" href=\"https://ourfiniteworld.com/2017/01/10/2017-the-year-when-the-world-economy-starts-coming-apart/?replytocom=112057#respond\" onclick='return addComment.moveForm( \"comment-112057\", \"112057\", \"respond\", \"41544\" )' rel=\"nofollow\">Reply</a> </div><!-- .reply -->\n",
      "</div><!-- #comment-##  -->\n",
      "<ul class=\"children\">\n",
      "<li class=\"comment even depth-5 highlander-comment\" id=\"li-comment-112068\">\n",
      "<div id=\"comment-112068\">\n",
      "<div class=\"comment-author vcard\">\n",
      "<img alt=\"\" class=\"avatar avatar-40 grav-hashed grav-hijack\" height=\"40\" id=\"grav-4964a24d0c354cbaa6a1db5238855a73-0\" src=\"2017%20%20The%20Year%20When%20the%20World%20Economy%20Starts%20Coming%20Apart%20_%20Our%20Finite%20World-Dateien/4964a24d0c354cbaa6a1db5238855a73.gif\" width=\"40\"/> <cite class=\"fn\">Jens</cite> <span class=\"says\">says:</span> </div><!-- .comment-author .vcard -->\n",
      "<div class=\"comment-meta commentmetadata\"><a href=\"https://ourfiniteworld.com/2017/01/10/2017-the-year-when-the-world-economy-starts-coming-apart/comment-page-11/#comment-112068\">\n",
      "\t\t\t\tJanuary 15, 2017 at 10:51 am</a> </div><!-- .comment-meta .commentmetadata -->\n",
      "<div class=\"comment-body\"><p>I believe Tesla is doing just that with \n",
      "its Nevada “Giga-factory” – now adding a 70mw solar roof with batteries \n",
      "for nighttime operation</p>\n",
      "</div>\n",
      "<div class=\"reply\">\n",
      "<a aria-label=\"Reply to Jens\" class=\"comment-reply-link\" href=\"https://ourfiniteworld.com/2017/01/10/2017-the-year-when-the-world-economy-starts-coming-apart/?replytocom=112068#respond\" onclick='return addComment.moveForm( \"comment-112068\", \"112068\", \"respond\", \"41544\" )' rel=\"nofollow\">Reply</a> </div><!-- .reply -->\n",
      "</div><!-- #comment-##  -->\n",
      "</li><!-- #comment-## -->\n",
      "</ul><!-- .children -->\n",
      "</li><!-- #comment-## -->\n",
      "</ul><!-- .children -->\n",
      "</li><!-- #comment-## -->\n",
      "</ul><!-- .children -->\n",
      "</li>, ' #comment-## ', '\\n']\n"
     ]
    }
   ],
   "source": [
    "print(BS.find(\"ul\",attrs={\"class\":\"children\"}).contents)"
   ]
  },
  {
   "cell_type": "code",
   "execution_count": 49,
   "metadata": {},
   "outputs": [
    {
     "name": "stdout",
     "output_type": "stream",
     "text": [
      "<div class=\"reply\">\n",
      "<a aria-label=\"Reply to David L. Cooper\" class=\"comment-reply-link\" href=\"https://ourfiniteworld.com/2017/01/10/2017-the-year-when-the-world-economy-starts-coming-apart/?replytocom=112021#respond\" onclick='return addComment.moveForm( \"comment-112021\", \"112021\", \"respond\", \"41544\" )' rel=\"nofollow\">Reply</a> </div>\n"
     ]
    }
   ],
   "source": [
    "print(BS.find(\"div\",attrs={\"class\":\"reply\"}))"
   ]
  },
  {
   "cell_type": "code",
   "execution_count": 56,
   "metadata": {},
   "outputs": [
    {
     "name": "stdout",
     "output_type": "stream",
     "text": [
      "\n",
      "\n",
      " .reply \n",
      "None\n",
      "\n",
      "\n",
      "<a aria-label=\"Reply to David L. Cooper\" class=\"comment-reply-link\" href=\"https://ourfiniteworld.com/2017/01/10/2017-the-year-when-the-world-economy-starts-coming-apart/?replytocom=112021#respond\" onclick='return addComment.moveForm( \"comment-112021\", \"112021\", \"respond\", \"41544\" )' rel=\"nofollow\">Reply</a>\n",
      " \n"
     ]
    }
   ],
   "source": [
    "print(BS.find(\"div\",attrs={\"class\":\"reply\"}).next_element) # nix\n",
    "print(BS.find(\"div\",attrs={\"class\":\"reply\"}).next_sibling) #.reply\n",
    "print(BS.find(\"div\",attrs={\"class\":\"reply\"}).content) # None\n",
    "for c in BS.find(\"div\",attrs={\"class\":\"reply\"}).children:\n",
    "    print(c) # hat also Unterpunkte\n"
   ]
  },
  {
   "cell_type": "code",
   "execution_count": 17,
   "metadata": {},
   "outputs": [
    {
     "name": "stdout",
     "output_type": "stream",
     "text": [
      "<class 'bs4.element.ResultSet'>\n",
      "                              "
     ]
    }
   ],
   "source": [
    "links = BS.findAll(\"link\")\n",
    "print(type(links))\n",
    "for l in links:\n",
    "    print(\" \",end=\"\")\n",
    "    # print(l) druckt alle links aus\n",
    "    # l[0] gibt Error (ist eine einzelne iterierbare klasse)\n",
    "    "
   ]
  },
  {
   "cell_type": "code",
   "execution_count": 28,
   "metadata": {},
   "outputs": [
    {
     "name": "stdout",
     "output_type": "stream",
     "text": [
      "{'adolf', 'bdolf', 'cdolf'}\n",
      "hätler\n"
     ]
    }
   ],
   "source": [
    "# s = set(\"adolf\",\"bdolf\",\"cdolf\") error\n",
    "s = set()\n",
    "s.add(\"adolf\")\n",
    "# s.add(\"bdolf\",\"cdolf\") geht nicht\n",
    "s.add(\"bdolf\")\n",
    "s.add(\"cdolf\")\n",
    "if \"bdolf\" in s:\n",
    "    print(s)#geht\n",
    "\n",
    "d = dict(name=\"adolf\",surname=\"hätler\")\n",
    "if \"surname\" in d:\n",
    "    print(d[\"surname\"])"
   ]
  },
  {
   "cell_type": "code",
   "execution_count": 7,
   "metadata": {},
   "outputs": [
    {
     "name": "stdout",
     "output_type": "stream",
     "text": [
      "<script async=\"\" src=\"2017%20%20The%20Year%20When%20the%20World%20Economy%20Starts%20Coming%20Apart%20_%20Our%20Finite%20World-Dateien/ga.js\" type=\"text/javascript\"></script>\n",
      "<script src=\"2017%20%20The%20Year%20When%20the%20World%20Economy%20Starts%20Coming%20Apart%20_%20Our%20Finite%20World-Dateien/remote-login.php\" type=\"text/javascript\"></script>\n"
     ]
    }
   ],
   "source": [
    "element = BS.find(\"script\",attrs={\"type\":re.compile(\"text.*\")})\n",
    "print(element)\n",
    "print(element.next_element)"
   ]
  }
 ],
 "metadata": {
  "kernelspec": {
   "display_name": "Python 3",
   "language": "python",
   "name": "python3"
  },
  "language_info": {
   "codemirror_mode": {
    "name": "ipython",
    "version": 3
   },
   "file_extension": ".py",
   "mimetype": "text/x-python",
   "name": "python",
   "nbconvert_exporter": "python",
   "pygments_lexer": "ipython3",
   "version": "3.6.1"
  }
 },
 "nbformat": 4,
 "nbformat_minor": 2
}
