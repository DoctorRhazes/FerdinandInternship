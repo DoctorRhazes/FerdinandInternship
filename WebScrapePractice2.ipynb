{
 "cells": [
  {
   "cell_type": "code",
   "execution_count": 17,
   "metadata": {},
   "outputs": [
    {
     "name": "stdout",
     "output_type": "stream",
     "text": [
      "<a href=\"http://studentpoint.univie.ac.at/durchs-studium/?l=0\" target=\"_top\"><span class=\"icon-\"></span>  Studierende <span class=\"icon-extern\"></span></a>\n"
     ]
    },
    {
     "data": {
      "text/plain": [
       "bs4.element.ResultSet"
      ]
     },
     "execution_count": 17,
     "metadata": {},
     "output_type": "execute_result"
    }
   ],
   "source": [
    "from urllib.request import urlopen\n",
    "from bs4 import BeautifulSoup\n",
    "import re\n",
    "\n",
    "univiehtml = urlopen(\"https://univie.ac.at\")\n",
    "BS = BeautifulSoup(univiehtml,\"lxml\")\n",
    "\n",
    "Refs = BS.findAll(\"a\",attrs={\"href\":re.compile(\"(http).*\")})\n",
    "print(Refs[1])\n",
    "type(Refs)"
   ]
  },
  {
   "cell_type": "code",
   "execution_count": 20,
   "metadata": {},
   "outputs": [
    {
     "name": "stdout",
     "output_type": "stream",
     "text": [
      "[<a href=\"http://studentpoint.univie.ac.at/vor-dem-studium/?l=0\" target=\"_top\"><span class=\"icon-\"></span>  Studieninteressierte <span class=\"icon-extern\"></span></a>, <a href=\"http://studentpoint.univie.ac.at/durchs-studium/?l=0\" target=\"_top\"><span class=\"icon-\"></span>  Studierende <span class=\"icon-extern\"></span></a>, <a href=\"http://forschungsservice.univie.ac.at/\" target=\"_top\"><span class=\"icon-\"></span>  Forschende <span class=\"icon-extern\"></span></a>, <a href=\"http://www.postgraduatecenter.at/?l=0\" target=\"_top\"><span class=\"icon-\"></span>  Weiterbildung <span class=\"icon-extern\"></span></a>, <a href=\"http://www.alumni.ac.at/?l=0\" target=\"_top\"><span class=\"icon-\"></span>  Alumni <span class=\"icon-extern\"></span></a>]\n"
     ]
    }
   ],
   "source": [
    "print(Refs[0:5])"
   ]
  },
  {
   "cell_type": "code",
   "execution_count": 23,
   "metadata": {},
   "outputs": [
    {
     "name": "stdout",
     "output_type": "stream",
     "text": [
      "215\n",
      "<a href=\"http://studentpoint.univie.ac.at/en/what-to-study/master-programmes/\" target=\"_blank\">Engl. Master-Studiengänge</a>\n"
     ]
    }
   ],
   "source": [
    "print(len(Refs))\n",
    "print(Refs[100])"
   ]
  },
  {
   "cell_type": "code",
   "execution_count": 28,
   "metadata": {},
   "outputs": [
    {
     "name": "stdout",
     "output_type": "stream",
     "text": [
      "http://jobcenter.univie.ac.at/home/?l=0\n"
     ]
    }
   ],
   "source": [
    "print(Refs[7][\"href\"])"
   ]
  },
  {
   "cell_type": "code",
   "execution_count": 33,
   "metadata": {},
   "outputs": [
    {
     "name": "stdout",
     "output_type": "stream",
     "text": [
      "<a href=\"http://studentpoint.univie.ac.at/vor-dem-studium/?l=0\" target=\"_top\"><span class=\"icon-\"></span>  Studieninteressierte <span class=\"icon-extern\"></span></a>\n",
      "<a href=\"http://studentpoint.univie.ac.at/durchs-studium/?l=0\" target=\"_top\"><span class=\"icon-\"></span>  Studierende <span class=\"icon-extern\"></span></a>\n"
     ]
    }
   ],
   "source": [
    "Internlinks = {}\n",
    "for r in Refs[0:2]:\n",
    "    print(r)"
   ]
  },
  {
   "cell_type": "code",
   "execution_count": 35,
   "metadata": {},
   "outputs": [
    {
     "name": "stdout",
     "output_type": "stream",
     "text": [
      "http://studentpoint.univie.ac.at/vor-dem-studium/?l=0\n",
      "http://studentpoint.univie.ac.at/durchs-studium/?l=0\n"
     ]
    }
   ],
   "source": [
    "for r in Refs[0:2]:\n",
    "    print(r[\"href\"])"
   ]
  },
  {
   "cell_type": "code",
   "execution_count": 42,
   "metadata": {},
   "outputs": [
    {
     "name": "stdout",
     "output_type": "stream",
     "text": [
      "http://studentpoint.univie.ac.at/vor-dem-studium/?l=0\n",
      "http://studentpoint.univie.ac.at/durchs-studium/?l=0\n"
     ]
    }
   ],
   "source": [
    "for r in Refs[0:2]:\n",
    "    if re.search(\".*univie.*\",r[\"href\"]):\n",
    "        print(r[\"href\"])"
   ]
  },
  {
   "cell_type": "code",
   "execution_count": 5,
   "metadata": {},
   "outputs": [],
   "source": [
    "txtfile = open(\"newtext.txt\",\"w\")\n",
    "txtfile.write(\"dies ist text {}\".format(\"supertoll\"))\n",
    "txtfile.close()"
   ]
  },
  {
   "cell_type": "code",
   "execution_count": null,
   "metadata": {
    "collapsed": true
   },
   "outputs": [],
   "source": []
  }
 ],
 "metadata": {
  "kernelspec": {
   "display_name": "Python 3",
   "language": "python",
   "name": "python3"
  },
  "language_info": {
   "codemirror_mode": {
    "name": "ipython",
    "version": 3
   },
   "file_extension": ".py",
   "mimetype": "text/x-python",
   "name": "python",
   "nbconvert_exporter": "python",
   "pygments_lexer": "ipython3",
   "version": "3.6.1"
  }
 },
 "nbformat": 4,
 "nbformat_minor": 2
}
